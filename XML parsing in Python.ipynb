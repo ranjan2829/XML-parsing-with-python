{
 "cells": [
  {
   "cell_type": "markdown",
   "id": "b1db595f",
   "metadata": {},
   "source": [
    "# XML parsing in Python"
   ]
  },
  {
   "cell_type": "code",
   "execution_count": 1,
   "id": "fb131802",
   "metadata": {},
   "outputs": [],
   "source": [
    "import csv\n",
    "import xml.etree.ElementTree as ET\n",
    "import pandas as pd\n",
    "import requests"
   ]
  },
  {
   "cell_type": "code",
   "execution_count": 2,
   "id": "77b7ec64",
   "metadata": {},
   "outputs": [],
   "source": [
    "def load_rss():\n",
    "    a=(requests.get(url='http://www.hindustantimes.com/rss/topnews/rssfeed.xml')).content\n",
    "    # saving the xml file\n",
    "    with open('topnewsfeed.xml', 'wb') as f:\n",
    "        f.write(a)\n",
    "def parseXML(xmlfile):\n",
    "    tree=ET.parse(xmlfile)\n",
    "    root=tree.getroot()\n",
    "    news = []\n",
    "    for item in root.findall('./channel/item'):\n",
    "        newsitems={}\n",
    "        for child in item:\n",
    "            if child.tag==\"{http://search.yahoo.com/mrss/}content\":\n",
    "                news['media']=child.attrib['url']\n",
    "            else:\n",
    "                news['media']=child.text.encode('utf8')\n",
    "        newsitems.append(news)\n",
    "        return newsitems\n",
    "\n",
    "\n",
    "        \n",
    "  \n",
    "def savetoCSV(newsitems, filename):\n",
    "  \n",
    "    # specifying the fields for csv file\n",
    "    fields = ['guid', 'title', 'pubDate', 'description', 'link', 'media']\n",
    "  \n",
    "    # writing to csv file\n",
    "    with open(filename, 'w') as csvfile:\n",
    "  \n",
    "        # creating a csv dict writer object\n",
    "        writer = csv.DictWriter(csvfile, fieldnames = fields)\n",
    "  \n",
    "        # writing headers (field names)\n",
    "        writer.writeheader()\n",
    "  \n",
    "        # writing data rows\n",
    "        writer.writerows(newsitems)\n",
    "        \n",
    "      \n"
   ]
  },
  {
   "cell_type": "code",
   "execution_count": 4,
   "id": "a3ef1b40",
   "metadata": {},
   "outputs": [
    {
     "ename": "TypeError",
     "evalue": "'NoneType' object is not iterable",
     "output_type": "error",
     "traceback": [
      "\u001b[1;31m---------------------------------------------------------------------------\u001b[0m",
      "\u001b[1;31mTypeError\u001b[0m                                 Traceback (most recent call last)",
      "\u001b[1;32m~\\AppData\\Local\\Temp/ipykernel_25576/2305330982.py\u001b[0m in \u001b[0;36m<module>\u001b[1;34m\u001b[0m\n\u001b[0;32m     13\u001b[0m \u001b[1;33m\u001b[0m\u001b[0m\n\u001b[0;32m     14\u001b[0m     \u001b[1;31m# calling main function\u001b[0m\u001b[1;33m\u001b[0m\u001b[1;33m\u001b[0m\u001b[1;33m\u001b[0m\u001b[0m\n\u001b[1;32m---> 15\u001b[1;33m     \u001b[0mmain\u001b[0m\u001b[1;33m(\u001b[0m\u001b[1;33m)\u001b[0m\u001b[1;33m\u001b[0m\u001b[1;33m\u001b[0m\u001b[0m\n\u001b[0m",
      "\u001b[1;32m~\\AppData\\Local\\Temp/ipykernel_25576/2305330982.py\u001b[0m in \u001b[0;36mmain\u001b[1;34m()\u001b[0m\n\u001b[0;32m      7\u001b[0m \u001b[1;33m\u001b[0m\u001b[0m\n\u001b[0;32m      8\u001b[0m     \u001b[1;31m# store news items in a csv file\u001b[0m\u001b[1;33m\u001b[0m\u001b[1;33m\u001b[0m\u001b[1;33m\u001b[0m\u001b[0m\n\u001b[1;32m----> 9\u001b[1;33m     \u001b[0msavetoCSV\u001b[0m\u001b[1;33m(\u001b[0m\u001b[0mnewsitems\u001b[0m\u001b[1;33m,\u001b[0m \u001b[1;34m'topnews.csv'\u001b[0m\u001b[1;33m)\u001b[0m\u001b[1;33m\u001b[0m\u001b[1;33m\u001b[0m\u001b[0m\n\u001b[0m\u001b[0;32m     10\u001b[0m \u001b[1;33m\u001b[0m\u001b[0m\n\u001b[0;32m     11\u001b[0m \u001b[1;33m\u001b[0m\u001b[0m\n",
      "\u001b[1;32m~\\AppData\\Local\\Temp/ipykernel_25576/347907145.py\u001b[0m in \u001b[0;36msavetoCSV\u001b[1;34m(newsitems, filename)\u001b[0m\n\u001b[0;32m     36\u001b[0m \u001b[1;33m\u001b[0m\u001b[0m\n\u001b[0;32m     37\u001b[0m         \u001b[1;31m# writing data rows\u001b[0m\u001b[1;33m\u001b[0m\u001b[1;33m\u001b[0m\u001b[1;33m\u001b[0m\u001b[0m\n\u001b[1;32m---> 38\u001b[1;33m         \u001b[0mwriter\u001b[0m\u001b[1;33m.\u001b[0m\u001b[0mwriterows\u001b[0m\u001b[1;33m(\u001b[0m\u001b[0mnewsitems\u001b[0m\u001b[1;33m)\u001b[0m\u001b[1;33m\u001b[0m\u001b[1;33m\u001b[0m\u001b[0m\n\u001b[0m\u001b[0;32m     39\u001b[0m \u001b[1;33m\u001b[0m\u001b[0m\n\u001b[0;32m     40\u001b[0m \u001b[1;33m\u001b[0m\u001b[0m\n",
      "\u001b[1;32mc:\\users\\ranjan\\appdata\\local\\programs\\python\\python39\\lib\\csv.py\u001b[0m in \u001b[0;36mwriterows\u001b[1;34m(self, rowdicts)\u001b[0m\n\u001b[0;32m    155\u001b[0m \u001b[1;33m\u001b[0m\u001b[0m\n\u001b[0;32m    156\u001b[0m     \u001b[1;32mdef\u001b[0m \u001b[0mwriterows\u001b[0m\u001b[1;33m(\u001b[0m\u001b[0mself\u001b[0m\u001b[1;33m,\u001b[0m \u001b[0mrowdicts\u001b[0m\u001b[1;33m)\u001b[0m\u001b[1;33m:\u001b[0m\u001b[1;33m\u001b[0m\u001b[1;33m\u001b[0m\u001b[0m\n\u001b[1;32m--> 157\u001b[1;33m         \u001b[1;32mreturn\u001b[0m \u001b[0mself\u001b[0m\u001b[1;33m.\u001b[0m\u001b[0mwriter\u001b[0m\u001b[1;33m.\u001b[0m\u001b[0mwriterows\u001b[0m\u001b[1;33m(\u001b[0m\u001b[0mmap\u001b[0m\u001b[1;33m(\u001b[0m\u001b[0mself\u001b[0m\u001b[1;33m.\u001b[0m\u001b[0m_dict_to_list\u001b[0m\u001b[1;33m,\u001b[0m \u001b[0mrowdicts\u001b[0m\u001b[1;33m)\u001b[0m\u001b[1;33m)\u001b[0m\u001b[1;33m\u001b[0m\u001b[1;33m\u001b[0m\u001b[0m\n\u001b[0m\u001b[0;32m    158\u001b[0m \u001b[1;33m\u001b[0m\u001b[0m\n\u001b[0;32m    159\u001b[0m \u001b[1;31m# Guard Sniffer's type checking against builds that exclude complex()\u001b[0m\u001b[1;33m\u001b[0m\u001b[1;33m\u001b[0m\u001b[1;33m\u001b[0m\u001b[0m\n",
      "\u001b[1;31mTypeError\u001b[0m: 'NoneType' object is not iterable"
     ]
    }
   ],
   "source": [
    "def main():\n",
    "    # load rss from web to update existing xml file\n",
    "    load_rss()\n",
    "  \n",
    "    # parse xml file\n",
    "    newsitems = parseXML('topnewsfeed.xml')\n",
    "  \n",
    "    # store news items in a csv file\n",
    "    savetoCSV(newsitems, 'topnews.csv')\n",
    "      \n",
    "      \n",
    "if __name__ == \"__main__\":\n",
    "  \n",
    "    # calling main function\n",
    "    main()"
   ]
  },
  {
   "cell_type": "code",
   "execution_count": null,
   "id": "7a21e3d4",
   "metadata": {},
   "outputs": [],
   "source": []
  }
 ],
 "metadata": {
  "kernelspec": {
   "display_name": "Python 3 (ipykernel)",
   "language": "python",
   "name": "python3"
  },
  "language_info": {
   "codemirror_mode": {
    "name": "ipython",
    "version": 3
   },
   "file_extension": ".py",
   "mimetype": "text/x-python",
   "name": "python",
   "nbconvert_exporter": "python",
   "pygments_lexer": "ipython3",
   "version": "3.9.6"
  }
 },
 "nbformat": 4,
 "nbformat_minor": 5
}
